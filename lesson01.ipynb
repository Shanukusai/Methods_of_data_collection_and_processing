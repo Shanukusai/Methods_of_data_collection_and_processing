{
 "cells": [
  {
   "cell_type": "markdown",
   "metadata": {},
   "source": [
    "1. Посмотреть документацию к API GitHub, разобраться как вывести список репозиториев для конкретного пользователя, сохранить JSON-вывод в файле *.json."
   ]
  },
  {
   "cell_type": "code",
   "execution_count": 36,
   "metadata": {},
   "outputs": [],
   "source": [
    "import json\n",
    "from pprint import pprint\n",
    "import requests\n",
    "import hmac, hashlib\n",
    "import base64"
   ]
  },
  {
   "cell_type": "code",
   "execution_count": 13,
   "metadata": {},
   "outputs": [],
   "source": [
    "r = requests.get('https://api.github.com/users/Shanukusai/repos')"
   ]
  },
  {
   "cell_type": "code",
   "execution_count": 14,
   "metadata": {},
   "outputs": [
    {
     "data": {
      "text/plain": [
       "'application/json; charset=utf-8'"
      ]
     },
     "execution_count": 14,
     "metadata": {},
     "output_type": "execute_result"
    }
   ],
   "source": [
    "r.headers['content-type']"
   ]
  },
  {
   "cell_type": "code",
   "execution_count": 15,
   "metadata": {},
   "outputs": [
    {
     "data": {
      "text/plain": [
       "'utf-8'"
      ]
     },
     "execution_count": 15,
     "metadata": {},
     "output_type": "execute_result"
    }
   ],
   "source": [
    "r.encoding"
   ]
  },
  {
   "cell_type": "code",
   "execution_count": 16,
   "metadata": {},
   "outputs": [
    {
     "data": {
      "text/plain": [
       "'[{\"id\":247262887,\"node_id\":\"MDEwOlJlcG9zaXRvcnkyNDcyNjI4ODc=\",\"name\":\"database\",\"full_name\":\"Shanukusai/database\",\"private\":false,\"owner\":{\"login\":\"Shanukusai\",\"id\":44548063,\"node_id\":\"MDQ6VXNlcjQ0NTQ4MDYz\",\"avatar_url\":\"https://avatars1.githubusercontent.com/u/44548063?v=4\",\"gravatar_id\":\"\",\"url\":\"https://api.github.com/users/Shanukusai\",\"html_url\":\"https://github.com/Shanukusai\",\"followers_url\":\"https://api.github.com/users/Shanukusai/followers\",\"following_url\":\"https://api.github.com/users/Shanukusai/following{/other_user}\",\"gists_url\":\"https://api.github.com/users/Shanukusai/gists{/gist_id}\",\"starred_url\":\"https://api.github.com/users/Shanukusai/starred{/owner}{/repo}\",\"subscriptions_url\":\"https://api.github.com/users/Shanukusai/subscriptions\",\"organizations_url\":\"https://api.github.com/users/Shanukusai/orgs\",\"repos_url\":\"https://api.github.com/users/Shanukusai/repos\",\"events_url\":\"https://api.github.com/users/Shanukusai/events{/privacy}\",\"received_events_url\":\"https://api.github.com/users/Shanukusai/received_events\",\"type\":\"User\",\"site_admin\":false},\"html_url\":\"https://github.com/Shanukusai/database\",\"description\":null,\"fork\":false,\"url\":\"https://api.github.com/repos/Shanukusai/database\",\"forks_url\":\"https://api.github.com/repos/Shanukusai/database/forks\",\"keys_url\":\"https://api.github.com/repos/Shanukusai/database/keys{/key_id}\",\"collaborators_url\":\"https://api.github.com/repos/Shanukusai/database/collaborators{/collaborator}\",\"teams_url\":\"https://api.github.com/repos/Shanukusai/database/teams\",\"hooks_url\":\"https://api.github.com/repos/Shanukusai/database/hooks\",\"issue_events_url\":\"https://api.github.com/repos/Shanukusai/database/issues/events{/number}\",\"events_url\":\"https://api.github.com/repos/Shanukusai/database/events\",\"assignees_url\":\"https://api.github.com/repos/Shanukusai/database/assignees{/user}\",\"branches_url\":\"https://api.github.com/repos/Shanukusai/database/branches{/branch}\",\"tags_url\":\"https://api.github.com/repos/Shanukusai/database/tags\",\"blobs_url\":\"https://api.github.com/repos/Shanukusai/database/git/blobs{/sha}\",\"git_tags_url\":\"https://api.github.com/repos/Shanukusai/database/git/tags{/sha}\",\"git_refs_url\":\"https://api.github.com/repos/Shanukusai/database/git/refs{/sha}\",\"trees_url\":\"https://api.github.com/repos/Shanukusai/database/git/trees{/sha}\",\"statuses_url\":\"https://api.github.com/repos/Shanukusai/database/statuses/{sha}\",\"languages_url\":\"https://api.github.com/repos/Shanukusai/database/languages\",\"stargazers_url\":\"https://api.github.com/repos/Shanukusai/database/stargazers\",\"contributors_url\":\"https://api.github.com/repos/Shanukusai/database/contributors\",\"subscribers_url\":\"https://api.github.com/repos/Shanukusai/database/subscribers\",\"subscription_url\":\"https://api.github.com/repos/Shanukusai/database/subscription\",\"commits_url\":\"https://api.github.com/repos/Shanukusai/database/commits{/sha}\",\"git_commits_url\":\"https://api.github.com/repos/Shanukusai/database/git/commits{/sha}\",\"comments_url\":\"https://api.github.com/repos/Shanukusai/database/comments{/number}\",\"issue_comment_url\":\"https://api.github.com/repos/Shanukusai/database/issues/comments{/number}\",\"contents_url\":\"https://api.github.com/repos/Shanukusai/database/contents/{+path}\",\"compare_url\":\"https://api.github.com/repos/Shanukusai/database/compare/{base}...{head}\",\"merges_url\":\"https://api.github.com/repos/Shanukusai/database/merges\",\"archive_url\":\"https://api.github.com/repos/Shanukusai/database/{archive_format}{/ref}\",\"downloads_url\":\"https://api.github.com/repos/Shanukusai/database/downloads\",\"issues_url\":\"https://api.github.com/repos/Shanukusai/database/issues{/number}\",\"pulls_url\":\"https://api.github.com/repos/Shanukusai/database/pulls{/number}\",\"milestones_url\":\"https://api.github.com/repos/Shanukusai/database/milestones{/number}\",\"notifications_url\":\"https://api.github.com/repos/Shanukusai/database/notifications{?since,all,participating}\",\"labels_url\":\"https://api.github.com/repos/Shanukusai/database/labels{/name}\",\"releases_url\":\"https://api.github.com/repos/Shanukusai/database/releases{/id}\",\"deployments_url\":\"https://api.github.com/repos/Shanukusai/database/deployments\",\"created_at\":\"2020-03-14T11:22:54Z\",\"updated_at\":\"2020-03-30T19:35:02Z\",\"pushed_at\":\"2020-03-30T19:35:00Z\",\"git_url\":\"git://github.com/Shanukusai/database.git\",\"ssh_url\":\"git@github.com:Shanukusai/database.git\",\"clone_url\":\"https://github.com/Shanukusai/database.git\",\"svn_url\":\"https://github.com/Shanukusai/database\",\"homepage\":null,\"size\":3,\"stargazers_count\":0,\"watchers_count\":0,\"language\":\"TSQL\",\"has_issues\":true,\"has_projects\":true,\"has_downloads\":true,\"has_wiki\":true,\"has_pages\":false,\"forks_count\":0,\"mirror_url\":null,\"archived\":false,\"disabled\":false,\"open_issues_count\":0,\"license\":null,\"forks\":0,\"open_issues\":0,\"watchers\":0,\"default_branch\":\"master\"},{\"id\":230150238,\"node_id\":\"MDEwOlJlcG9zaXRvcnkyMzAxNTAyMzg=\",\"name\":\"python_basics\",\"full_name\":\"Shanukusai/python_basics\",\"private\":false,\"owner\":{\"login\":\"Shanukusai\",\"id\":44548063,\"node_id\":\"MDQ6VXNlcjQ0NTQ4MDYz\",\"avatar_url\":\"https://avatars1.githubusercontent.com/u/44548063?v=4\",\"gravatar_id\":\"\",\"url\":\"https://api.github.com/users/Shanukusai\",\"html_url\":\"https://github.com/Shanukusai\",\"followers_url\":\"https://api.github.com/users/Shanukusai/followers\",\"following_url\":\"https://api.github.com/users/Shanukusai/following{/other_user}\",\"gists_url\":\"https://api.github.com/users/Shanukusai/gists{/gist_id}\",\"starred_url\":\"https://api.github.com/users/Shanukusai/starred{/owner}{/repo}\",\"subscriptions_url\":\"https://api.github.com/users/Shanukusai/subscriptions\",\"organizations_url\":\"https://api.github.com/users/Shanukusai/orgs\",\"repos_url\":\"https://api.github.com/users/Shanukusai/repos\",\"events_url\":\"https://api.github.com/users/Shanukusai/events{/privacy}\",\"received_events_url\":\"https://api.github.com/users/Shanukusai/received_events\",\"type\":\"User\",\"site_admin\":false},\"html_url\":\"https://github.com/Shanukusai/python_basics\",\"description\":null,\"fork\":false,\"url\":\"https://api.github.com/repos/Shanukusai/python_basics\",\"forks_url\":\"https://api.github.com/repos/Shanukusai/python_basics/forks\",\"keys_url\":\"https://api.github.com/repos/Shanukusai/python_basics/keys{/key_id}\",\"collaborators_url\":\"https://api.github.com/repos/Shanukusai/python_basics/collaborators{/collaborator}\",\"teams_url\":\"https://api.github.com/repos/Shanukusai/python_basics/teams\",\"hooks_url\":\"https://api.github.com/repos/Shanukusai/python_basics/hooks\",\"issue_events_url\":\"https://api.github.com/repos/Shanukusai/python_basics/issues/events{/number}\",\"events_url\":\"https://api.github.com/repos/Shanukusai/python_basics/events\",\"assignees_url\":\"https://api.github.com/repos/Shanukusai/python_basics/assignees{/user}\",\"branches_url\":\"https://api.github.com/repos/Shanukusai/python_basics/branches{/branch}\",\"tags_url\":\"https://api.github.com/repos/Shanukusai/python_basics/tags\",\"blobs_url\":\"https://api.github.com/repos/Shanukusai/python_basics/git/blobs{/sha}\",\"git_tags_url\":\"https://api.github.com/repos/Shanukusai/python_basics/git/tags{/sha}\",\"git_refs_url\":\"https://api.github.com/repos/Shanukusai/python_basics/git/refs{/sha}\",\"trees_url\":\"https://api.github.com/repos/Shanukusai/python_basics/git/trees{/sha}\",\"statuses_url\":\"https://api.github.com/repos/Shanukusai/python_basics/statuses/{sha}\",\"languages_url\":\"https://api.github.com/repos/Shanukusai/python_basics/languages\",\"stargazers_url\":\"https://api.github.com/repos/Shanukusai/python_basics/stargazers\",\"contributors_url\":\"https://api.github.com/repos/Shanukusai/python_basics/contributors\",\"subscribers_url\":\"https://api.github.com/repos/Shanukusai/python_basics/subscribers\",\"subscription_url\":\"https://api.github.com/repos/Shanukusai/python_basics/subscription\",\"commits_url\":\"https://api.github.com/repos/Shanukusai/python_basics/commits{/sha}\",\"git_commits_url\":\"https://api.github.com/repos/Shanukusai/python_basics/git/commits{/sha}\",\"comments_url\":\"https://api.github.com/repos/Shanukusai/python_basics/comments{/number}\",\"issue_comment_url\":\"https://api.github.com/repos/Shanukusai/python_basics/issues/comments{/number}\",\"contents_url\":\"https://api.github.com/repos/Shanukusai/python_basics/contents/{+path}\",\"compare_url\":\"https://api.github.com/repos/Shanukusai/python_basics/compare/{base}...{head}\",\"merges_url\":\"https://api.github.com/repos/Shanukusai/python_basics/merges\",\"archive_url\":\"https://api.github.com/repos/Shanukusai/python_basics/{archive_format}{/ref}\",\"downloads_url\":\"https://api.github.com/repos/Shanukusai/python_basics/downloads\",\"issues_url\":\"https://api.github.com/repos/Shanukusai/python_basics/issues{/number}\",\"pulls_url\":\"https://api.github.com/repos/Shanukusai/python_basics/pulls{/number}\",\"milestones_url\":\"https://api.github.com/repos/Shanukusai/python_basics/milestones{/number}\",\"notifications_url\":\"https://api.github.com/repos/Shanukusai/python_basics/notifications{?since,all,participating}\",\"labels_url\":\"https://api.github.com/repos/Shanukusai/python_basics/labels{/name}\",\"releases_url\":\"https://api.github.com/repos/Shanukusai/python_basics/releases{/id}\",\"deployments_url\":\"https://api.github.com/repos/Shanukusai/python_basics/deployments\",\"created_at\":\"2019-12-25T20:28:24Z\",\"updated_at\":\"2020-01-26T23:45:59Z\",\"pushed_at\":\"2020-02-01T16:55:51Z\",\"git_url\":\"git://github.com/Shanukusai/python_basics.git\",\"ssh_url\":\"git@github.com:Shanukusai/python_basics.git\",\"clone_url\":\"https://github.com/Shanukusai/python_basics.git\",\"svn_url\":\"https://github.com/Shanukusai/python_basics\",\"homepage\":null,\"size\":38,\"stargazers_count\":0,\"watchers_count\":0,\"language\":\"Python\",\"has_issues\":true,\"has_projects\":true,\"has_downloads\":true,\"has_wiki\":true,\"has_pages\":false,\"forks_count\":0,\"mirror_url\":null,\"archived\":false,\"disabled\":false,\"open_issues_count\":3,\"license\":null,\"forks\":0,\"open_issues\":3,\"watchers\":0,\"default_branch\":\"master\"},{\"id\":262676392,\"node_id\":\"MDEwOlJlcG9zaXRvcnkyNjI2NzYzOTI=\",\"name\":\"Python_Libraries_for_DataScience\",\"full_name\":\"Shanukusai/Python_Libraries_for_DataScience\",\"private\":false,\"owner\":{\"login\":\"Shanukusai\",\"id\":44548063,\"node_id\":\"MDQ6VXNlcjQ0NTQ4MDYz\",\"avatar_url\":\"https://avatars1.githubusercontent.com/u/44548063?v=4\",\"gravatar_id\":\"\",\"url\":\"https://api.github.com/users/Shanukusai\",\"html_url\":\"https://github.com/Shanukusai\",\"followers_url\":\"https://api.github.com/users/Shanukusai/followers\",\"following_url\":\"https://api.github.com/users/Shanukusai/following{/other_user}\",\"gists_url\":\"https://api.github.com/users/Shanukusai/gists{/gist_id}\",\"starred_url\":\"https://api.github.com/users/Shanukusai/starred{/owner}{/repo}\",\"subscriptions_url\":\"https://api.github.com/users/Shanukusai/subscriptions\",\"organizations_url\":\"https://api.github.com/users/Shanukusai/orgs\",\"repos_url\":\"https://api.github.com/users/Shanukusai/repos\",\"events_url\":\"https://api.github.com/users/Shanukusai/events{/privacy}\",\"received_events_url\":\"https://api.github.com/users/Shanukusai/received_events\",\"type\":\"User\",\"site_admin\":false},\"html_url\":\"https://github.com/Shanukusai/Python_Libraries_for_DataScience\",\"description\":\" Python Libraries for Data Science\",\"fork\":false,\"url\":\"https://api.github.com/repos/Shanukusai/Python_Libraries_for_DataScience\",\"forks_url\":\"https://api.github.com/repos/Shanukusai/Python_Libraries_for_DataScience/forks\",\"keys_url\":\"https://api.github.com/repos/Shanukusai/Python_Libraries_for_DataScience/keys{/key_id}\",\"collaborators_url\":\"https://api.github.com/repos/Shanukusai/Python_Libraries_for_DataScience/collaborators{/collaborator}\",\"teams_url\":\"https://api.github.com/repos/Shanukusai/Python_Libraries_for_DataScience/teams\",\"hooks_url\":\"https://api.github.com/repos/Shanukusai/Python_Libraries_for_DataScience/hooks\",\"issue_events_url\":\"https://api.github.com/repos/Shanukusai/Python_Libraries_for_DataScience/issues/events{/number}\",\"events_url\":\"https://api.github.com/repos/Shanukusai/Python_Libraries_for_DataScience/events\",\"assignees_url\":\"https://api.github.com/repos/Shanukusai/Python_Libraries_for_DataScience/assignees{/user}\",\"branches_url\":\"https://api.github.com/repos/Shanukusai/Python_Libraries_for_DataScience/branches{/branch}\",\"tags_url\":\"https://api.github.com/repos/Shanukusai/Python_Libraries_for_DataScience/tags\",\"blobs_url\":\"https://api.github.com/repos/Shanukusai/Python_Libraries_for_DataScience/git/blobs{/sha}\",\"git_tags_url\":\"https://api.github.com/repos/Shanukusai/Python_Libraries_for_DataScience/git/tags{/sha}\",\"git_refs_url\":\"https://api.github.com/repos/Shanukusai/Python_Libraries_for_DataScience/git/refs{/sha}\",\"trees_url\":\"https://api.github.com/repos/Shanukusai/Python_Libraries_for_DataScience/git/trees{/sha}\",\"statuses_url\":\"https://api.github.com/repos/Shanukusai/Python_Libraries_for_DataScience/statuses/{sha}\",\"languages_url\":\"https://api.github.com/repos/Shanukusai/Python_Libraries_for_DataScience/languages\",\"stargazers_url\":\"https://api.github.com/repos/Shanukusai/Python_Libraries_for_DataScience/stargazers\",\"contributors_url\":\"https://api.github.com/repos/Shanukusai/Python_Libraries_for_DataScience/contributors\",\"subscribers_url\":\"https://api.github.com/repos/Shanukusai/Python_Libraries_for_DataScience/subscribers\",\"subscription_url\":\"https://api.github.com/repos/Shanukusai/Python_Libraries_for_DataScience/subscription\",\"commits_url\":\"https://api.github.com/repos/Shanukusai/Python_Libraries_for_DataScience/commits{/sha}\",\"git_commits_url\":\"https://api.github.com/repos/Shanukusai/Python_Libraries_for_DataScience/git/commits{/sha}\",\"comments_url\":\"https://api.github.com/repos/Shanukusai/Python_Libraries_for_DataScience/comments{/number}\",\"issue_comment_url\":\"https://api.github.com/repos/Shanukusai/Python_Libraries_for_DataScience/issues/comments{/number}\",\"contents_url\":\"https://api.github.com/repos/Shanukusai/Python_Libraries_for_DataScience/contents/{+path}\",\"compare_url\":\"https://api.github.com/repos/Shanukusai/Python_Libraries_for_DataScience/compare/{base}...{head}\",\"merges_url\":\"https://api.github.com/repos/Shanukusai/Python_Libraries_for_DataScience/merges\",\"archive_url\":\"https://api.github.com/repos/Shanukusai/Python_Libraries_for_DataScience/{archive_format}{/ref}\",\"downloads_url\":\"https://api.github.com/repos/Shanukusai/Python_Libraries_for_DataScience/downloads\",\"issues_url\":\"https://api.github.com/repos/Shanukusai/Python_Libraries_for_DataScience/issues{/number}\",\"pulls_url\":\"https://api.github.com/repos/Shanukusai/Python_Libraries_for_DataScience/pulls{/number}\",\"milestones_url\":\"https://api.github.com/repos/Shanukusai/Python_Libraries_for_DataScience/milestones{/number}\",\"notifications_url\":\"https://api.github.com/repos/Shanukusai/Python_Libraries_for_DataScience/notifications{?since,all,participating}\",\"labels_url\":\"https://api.github.com/repos/Shanukusai/Python_Libraries_for_DataScience/labels{/name}\",\"releases_url\":\"https://api.github.com/repos/Shanukusai/Python_Libraries_for_DataScience/releases{/id}\",\"deployments_url\":\"https://api.github.com/repos/Shanukusai/Python_Libraries_for_DataScience/deployments\",\"created_at\":\"2020-05-09T23:22:10Z\",\"updated_at\":\"2020-05-30T16:37:41Z\",\"pushed_at\":\"2020-05-30T16:37:39Z\",\"git_url\":\"git://github.com/Shanukusai/Python_Libraries_for_DataScience.git\",\"ssh_url\":\"git@github.com:Shanukusai/Python_Libraries_for_DataScience.git\",\"clone_url\":\"https://github.com/Shanukusai/Python_Libraries_for_DataScience.git\",\"svn_url\":\"https://github.com/Shanukusai/Python_Libraries_for_DataScience\",\"homepage\":null,\"size\":109,\"stargazers_count\":0,\"watchers_count\":0,\"language\":\"Jupyter Notebook\",\"has_issues\":true,\"has_projects\":true,\"has_downloads\":true,\"has_wiki\":true,\"has_pages\":false,\"forks_count\":0,\"mirror_url\":null,\"archived\":false,\"disabled\":false,\"open_issues_count\":1,\"license\":null,\"forks\":0,\"open_issues\":1,\"watchers\":0,\"default_branch\":\"master\"}]'"
      ]
     },
     "execution_count": 16,
     "metadata": {},
     "output_type": "execute_result"
    }
   ],
   "source": [
    "r.text"
   ]
  },
  {
   "cell_type": "code",
   "execution_count": 17,
   "metadata": {},
   "outputs": [],
   "source": [
    "data = r.json()"
   ]
  },
  {
   "cell_type": "code",
   "execution_count": 18,
   "metadata": {},
   "outputs": [
    {
     "name": "stdout",
     "output_type": "stream",
     "text": [
      "[{'archive_url': 'https://api.github.com/repos/Shanukusai/database/{archive_format}{/ref}',\n",
      "  'archived': False,\n",
      "  'assignees_url': 'https://api.github.com/repos/Shanukusai/database/assignees{/user}',\n",
      "  'blobs_url': 'https://api.github.com/repos/Shanukusai/database/git/blobs{/sha}',\n",
      "  'branches_url': 'https://api.github.com/repos/Shanukusai/database/branches{/branch}',\n",
      "  'clone_url': 'https://github.com/Shanukusai/database.git',\n",
      "  'collaborators_url': 'https://api.github.com/repos/Shanukusai/database/collaborators{/collaborator}',\n",
      "  'comments_url': 'https://api.github.com/repos/Shanukusai/database/comments{/number}',\n",
      "  'commits_url': 'https://api.github.com/repos/Shanukusai/database/commits{/sha}',\n",
      "  'compare_url': 'https://api.github.com/repos/Shanukusai/database/compare/{base}...{head}',\n",
      "  'contents_url': 'https://api.github.com/repos/Shanukusai/database/contents/{+path}',\n",
      "  'contributors_url': 'https://api.github.com/repos/Shanukusai/database/contributors',\n",
      "  'created_at': '2020-03-14T11:22:54Z',\n",
      "  'default_branch': 'master',\n",
      "  'deployments_url': 'https://api.github.com/repos/Shanukusai/database/deployments',\n",
      "  'description': None,\n",
      "  'disabled': False,\n",
      "  'downloads_url': 'https://api.github.com/repos/Shanukusai/database/downloads',\n",
      "  'events_url': 'https://api.github.com/repos/Shanukusai/database/events',\n",
      "  'fork': False,\n",
      "  'forks': 0,\n",
      "  'forks_count': 0,\n",
      "  'forks_url': 'https://api.github.com/repos/Shanukusai/database/forks',\n",
      "  'full_name': 'Shanukusai/database',\n",
      "  'git_commits_url': 'https://api.github.com/repos/Shanukusai/database/git/commits{/sha}',\n",
      "  'git_refs_url': 'https://api.github.com/repos/Shanukusai/database/git/refs{/sha}',\n",
      "  'git_tags_url': 'https://api.github.com/repos/Shanukusai/database/git/tags{/sha}',\n",
      "  'git_url': 'git://github.com/Shanukusai/database.git',\n",
      "  'has_downloads': True,\n",
      "  'has_issues': True,\n",
      "  'has_pages': False,\n",
      "  'has_projects': True,\n",
      "  'has_wiki': True,\n",
      "  'homepage': None,\n",
      "  'hooks_url': 'https://api.github.com/repos/Shanukusai/database/hooks',\n",
      "  'html_url': 'https://github.com/Shanukusai/database',\n",
      "  'id': 247262887,\n",
      "  'issue_comment_url': 'https://api.github.com/repos/Shanukusai/database/issues/comments{/number}',\n",
      "  'issue_events_url': 'https://api.github.com/repos/Shanukusai/database/issues/events{/number}',\n",
      "  'issues_url': 'https://api.github.com/repos/Shanukusai/database/issues{/number}',\n",
      "  'keys_url': 'https://api.github.com/repos/Shanukusai/database/keys{/key_id}',\n",
      "  'labels_url': 'https://api.github.com/repos/Shanukusai/database/labels{/name}',\n",
      "  'language': 'TSQL',\n",
      "  'languages_url': 'https://api.github.com/repos/Shanukusai/database/languages',\n",
      "  'license': None,\n",
      "  'merges_url': 'https://api.github.com/repos/Shanukusai/database/merges',\n",
      "  'milestones_url': 'https://api.github.com/repos/Shanukusai/database/milestones{/number}',\n",
      "  'mirror_url': None,\n",
      "  'name': 'database',\n",
      "  'node_id': 'MDEwOlJlcG9zaXRvcnkyNDcyNjI4ODc=',\n",
      "  'notifications_url': 'https://api.github.com/repos/Shanukusai/database/notifications{?since,all,participating}',\n",
      "  'open_issues': 0,\n",
      "  'open_issues_count': 0,\n",
      "  'owner': {'avatar_url': 'https://avatars1.githubusercontent.com/u/44548063?v=4',\n",
      "            'events_url': 'https://api.github.com/users/Shanukusai/events{/privacy}',\n",
      "            'followers_url': 'https://api.github.com/users/Shanukusai/followers',\n",
      "            'following_url': 'https://api.github.com/users/Shanukusai/following{/other_user}',\n",
      "            'gists_url': 'https://api.github.com/users/Shanukusai/gists{/gist_id}',\n",
      "            'gravatar_id': '',\n",
      "            'html_url': 'https://github.com/Shanukusai',\n",
      "            'id': 44548063,\n",
      "            'login': 'Shanukusai',\n",
      "            'node_id': 'MDQ6VXNlcjQ0NTQ4MDYz',\n",
      "            'organizations_url': 'https://api.github.com/users/Shanukusai/orgs',\n",
      "            'received_events_url': 'https://api.github.com/users/Shanukusai/received_events',\n",
      "            'repos_url': 'https://api.github.com/users/Shanukusai/repos',\n",
      "            'site_admin': False,\n",
      "            'starred_url': 'https://api.github.com/users/Shanukusai/starred{/owner}{/repo}',\n",
      "            'subscriptions_url': 'https://api.github.com/users/Shanukusai/subscriptions',\n",
      "            'type': 'User',\n",
      "            'url': 'https://api.github.com/users/Shanukusai'},\n",
      "  'private': False,\n",
      "  'pulls_url': 'https://api.github.com/repos/Shanukusai/database/pulls{/number}',\n",
      "  'pushed_at': '2020-03-30T19:35:00Z',\n",
      "  'releases_url': 'https://api.github.com/repos/Shanukusai/database/releases{/id}',\n",
      "  'size': 3,\n",
      "  'ssh_url': 'git@github.com:Shanukusai/database.git',\n",
      "  'stargazers_count': 0,\n",
      "  'stargazers_url': 'https://api.github.com/repos/Shanukusai/database/stargazers',\n",
      "  'statuses_url': 'https://api.github.com/repos/Shanukusai/database/statuses/{sha}',\n",
      "  'subscribers_url': 'https://api.github.com/repos/Shanukusai/database/subscribers',\n",
      "  'subscription_url': 'https://api.github.com/repos/Shanukusai/database/subscription',\n",
      "  'svn_url': 'https://github.com/Shanukusai/database',\n",
      "  'tags_url': 'https://api.github.com/repos/Shanukusai/database/tags',\n",
      "  'teams_url': 'https://api.github.com/repos/Shanukusai/database/teams',\n",
      "  'trees_url': 'https://api.github.com/repos/Shanukusai/database/git/trees{/sha}',\n",
      "  'updated_at': '2020-03-30T19:35:02Z',\n",
      "  'url': 'https://api.github.com/repos/Shanukusai/database',\n",
      "  'watchers': 0,\n",
      "  'watchers_count': 0},\n",
      " {'archive_url': 'https://api.github.com/repos/Shanukusai/python_basics/{archive_format}{/ref}',\n",
      "  'archived': False,\n",
      "  'assignees_url': 'https://api.github.com/repos/Shanukusai/python_basics/assignees{/user}',\n",
      "  'blobs_url': 'https://api.github.com/repos/Shanukusai/python_basics/git/blobs{/sha}',\n",
      "  'branches_url': 'https://api.github.com/repos/Shanukusai/python_basics/branches{/branch}',\n",
      "  'clone_url': 'https://github.com/Shanukusai/python_basics.git',\n",
      "  'collaborators_url': 'https://api.github.com/repos/Shanukusai/python_basics/collaborators{/collaborator}',\n",
      "  'comments_url': 'https://api.github.com/repos/Shanukusai/python_basics/comments{/number}',\n",
      "  'commits_url': 'https://api.github.com/repos/Shanukusai/python_basics/commits{/sha}',\n",
      "  'compare_url': 'https://api.github.com/repos/Shanukusai/python_basics/compare/{base}...{head}',\n",
      "  'contents_url': 'https://api.github.com/repos/Shanukusai/python_basics/contents/{+path}',\n",
      "  'contributors_url': 'https://api.github.com/repos/Shanukusai/python_basics/contributors',\n",
      "  'created_at': '2019-12-25T20:28:24Z',\n",
      "  'default_branch': 'master',\n",
      "  'deployments_url': 'https://api.github.com/repos/Shanukusai/python_basics/deployments',\n",
      "  'description': None,\n",
      "  'disabled': False,\n",
      "  'downloads_url': 'https://api.github.com/repos/Shanukusai/python_basics/downloads',\n",
      "  'events_url': 'https://api.github.com/repos/Shanukusai/python_basics/events',\n",
      "  'fork': False,\n",
      "  'forks': 0,\n",
      "  'forks_count': 0,\n",
      "  'forks_url': 'https://api.github.com/repos/Shanukusai/python_basics/forks',\n",
      "  'full_name': 'Shanukusai/python_basics',\n",
      "  'git_commits_url': 'https://api.github.com/repos/Shanukusai/python_basics/git/commits{/sha}',\n",
      "  'git_refs_url': 'https://api.github.com/repos/Shanukusai/python_basics/git/refs{/sha}',\n",
      "  'git_tags_url': 'https://api.github.com/repos/Shanukusai/python_basics/git/tags{/sha}',\n",
      "  'git_url': 'git://github.com/Shanukusai/python_basics.git',\n",
      "  'has_downloads': True,\n",
      "  'has_issues': True,\n",
      "  'has_pages': False,\n",
      "  'has_projects': True,\n",
      "  'has_wiki': True,\n",
      "  'homepage': None,\n",
      "  'hooks_url': 'https://api.github.com/repos/Shanukusai/python_basics/hooks',\n",
      "  'html_url': 'https://github.com/Shanukusai/python_basics',\n",
      "  'id': 230150238,\n",
      "  'issue_comment_url': 'https://api.github.com/repos/Shanukusai/python_basics/issues/comments{/number}',\n",
      "  'issue_events_url': 'https://api.github.com/repos/Shanukusai/python_basics/issues/events{/number}',\n",
      "  'issues_url': 'https://api.github.com/repos/Shanukusai/python_basics/issues{/number}',\n",
      "  'keys_url': 'https://api.github.com/repos/Shanukusai/python_basics/keys{/key_id}',\n",
      "  'labels_url': 'https://api.github.com/repos/Shanukusai/python_basics/labels{/name}',\n",
      "  'language': 'Python',\n",
      "  'languages_url': 'https://api.github.com/repos/Shanukusai/python_basics/languages',\n",
      "  'license': None,\n",
      "  'merges_url': 'https://api.github.com/repos/Shanukusai/python_basics/merges',\n",
      "  'milestones_url': 'https://api.github.com/repos/Shanukusai/python_basics/milestones{/number}',\n",
      "  'mirror_url': None,\n",
      "  'name': 'python_basics',\n",
      "  'node_id': 'MDEwOlJlcG9zaXRvcnkyMzAxNTAyMzg=',\n",
      "  'notifications_url': 'https://api.github.com/repos/Shanukusai/python_basics/notifications{?since,all,participating}',\n",
      "  'open_issues': 3,\n",
      "  'open_issues_count': 3,\n",
      "  'owner': {'avatar_url': 'https://avatars1.githubusercontent.com/u/44548063?v=4',\n",
      "            'events_url': 'https://api.github.com/users/Shanukusai/events{/privacy}',\n",
      "            'followers_url': 'https://api.github.com/users/Shanukusai/followers',\n",
      "            'following_url': 'https://api.github.com/users/Shanukusai/following{/other_user}',\n",
      "            'gists_url': 'https://api.github.com/users/Shanukusai/gists{/gist_id}',\n",
      "            'gravatar_id': '',\n",
      "            'html_url': 'https://github.com/Shanukusai',\n",
      "            'id': 44548063,\n",
      "            'login': 'Shanukusai',\n",
      "            'node_id': 'MDQ6VXNlcjQ0NTQ4MDYz',\n",
      "            'organizations_url': 'https://api.github.com/users/Shanukusai/orgs',\n",
      "            'received_events_url': 'https://api.github.com/users/Shanukusai/received_events',\n",
      "            'repos_url': 'https://api.github.com/users/Shanukusai/repos',\n",
      "            'site_admin': False,\n",
      "            'starred_url': 'https://api.github.com/users/Shanukusai/starred{/owner}{/repo}',\n",
      "            'subscriptions_url': 'https://api.github.com/users/Shanukusai/subscriptions',\n",
      "            'type': 'User',\n",
      "            'url': 'https://api.github.com/users/Shanukusai'},\n",
      "  'private': False,\n",
      "  'pulls_url': 'https://api.github.com/repos/Shanukusai/python_basics/pulls{/number}',\n",
      "  'pushed_at': '2020-02-01T16:55:51Z',\n",
      "  'releases_url': 'https://api.github.com/repos/Shanukusai/python_basics/releases{/id}',\n",
      "  'size': 38,\n",
      "  'ssh_url': 'git@github.com:Shanukusai/python_basics.git',\n",
      "  'stargazers_count': 0,\n",
      "  'stargazers_url': 'https://api.github.com/repos/Shanukusai/python_basics/stargazers',\n",
      "  'statuses_url': 'https://api.github.com/repos/Shanukusai/python_basics/statuses/{sha}',\n",
      "  'subscribers_url': 'https://api.github.com/repos/Shanukusai/python_basics/subscribers',\n",
      "  'subscription_url': 'https://api.github.com/repos/Shanukusai/python_basics/subscription',\n",
      "  'svn_url': 'https://github.com/Shanukusai/python_basics',\n",
      "  'tags_url': 'https://api.github.com/repos/Shanukusai/python_basics/tags',\n",
      "  'teams_url': 'https://api.github.com/repos/Shanukusai/python_basics/teams',\n",
      "  'trees_url': 'https://api.github.com/repos/Shanukusai/python_basics/git/trees{/sha}',\n",
      "  'updated_at': '2020-01-26T23:45:59Z',\n",
      "  'url': 'https://api.github.com/repos/Shanukusai/python_basics',\n",
      "  'watchers': 0,\n",
      "  'watchers_count': 0},\n",
      " {'archive_url': 'https://api.github.com/repos/Shanukusai/Python_Libraries_for_DataScience/{archive_format}{/ref}',\n",
      "  'archived': False,\n",
      "  'assignees_url': 'https://api.github.com/repos/Shanukusai/Python_Libraries_for_DataScience/assignees{/user}',\n",
      "  'blobs_url': 'https://api.github.com/repos/Shanukusai/Python_Libraries_for_DataScience/git/blobs{/sha}',\n",
      "  'branches_url': 'https://api.github.com/repos/Shanukusai/Python_Libraries_for_DataScience/branches{/branch}',\n",
      "  'clone_url': 'https://github.com/Shanukusai/Python_Libraries_for_DataScience.git',\n",
      "  'collaborators_url': 'https://api.github.com/repos/Shanukusai/Python_Libraries_for_DataScience/collaborators{/collaborator}',\n",
      "  'comments_url': 'https://api.github.com/repos/Shanukusai/Python_Libraries_for_DataScience/comments{/number}',\n",
      "  'commits_url': 'https://api.github.com/repos/Shanukusai/Python_Libraries_for_DataScience/commits{/sha}',\n",
      "  'compare_url': 'https://api.github.com/repos/Shanukusai/Python_Libraries_for_DataScience/compare/{base}...{head}',\n",
      "  'contents_url': 'https://api.github.com/repos/Shanukusai/Python_Libraries_for_DataScience/contents/{+path}',\n",
      "  'contributors_url': 'https://api.github.com/repos/Shanukusai/Python_Libraries_for_DataScience/contributors',\n",
      "  'created_at': '2020-05-09T23:22:10Z',\n",
      "  'default_branch': 'master',\n",
      "  'deployments_url': 'https://api.github.com/repos/Shanukusai/Python_Libraries_for_DataScience/deployments',\n",
      "  'description': ' Python Libraries for Data Science',\n",
      "  'disabled': False,\n",
      "  'downloads_url': 'https://api.github.com/repos/Shanukusai/Python_Libraries_for_DataScience/downloads',\n",
      "  'events_url': 'https://api.github.com/repos/Shanukusai/Python_Libraries_for_DataScience/events',\n",
      "  'fork': False,\n",
      "  'forks': 0,\n",
      "  'forks_count': 0,\n",
      "  'forks_url': 'https://api.github.com/repos/Shanukusai/Python_Libraries_for_DataScience/forks',\n",
      "  'full_name': 'Shanukusai/Python_Libraries_for_DataScience',\n",
      "  'git_commits_url': 'https://api.github.com/repos/Shanukusai/Python_Libraries_for_DataScience/git/commits{/sha}',\n",
      "  'git_refs_url': 'https://api.github.com/repos/Shanukusai/Python_Libraries_for_DataScience/git/refs{/sha}',\n",
      "  'git_tags_url': 'https://api.github.com/repos/Shanukusai/Python_Libraries_for_DataScience/git/tags{/sha}',\n",
      "  'git_url': 'git://github.com/Shanukusai/Python_Libraries_for_DataScience.git',\n",
      "  'has_downloads': True,\n",
      "  'has_issues': True,\n",
      "  'has_pages': False,\n",
      "  'has_projects': True,\n",
      "  'has_wiki': True,\n",
      "  'homepage': None,\n",
      "  'hooks_url': 'https://api.github.com/repos/Shanukusai/Python_Libraries_for_DataScience/hooks',\n",
      "  'html_url': 'https://github.com/Shanukusai/Python_Libraries_for_DataScience',\n",
      "  'id': 262676392,\n",
      "  'issue_comment_url': 'https://api.github.com/repos/Shanukusai/Python_Libraries_for_DataScience/issues/comments{/number}',\n",
      "  'issue_events_url': 'https://api.github.com/repos/Shanukusai/Python_Libraries_for_DataScience/issues/events{/number}',\n",
      "  'issues_url': 'https://api.github.com/repos/Shanukusai/Python_Libraries_for_DataScience/issues{/number}',\n",
      "  'keys_url': 'https://api.github.com/repos/Shanukusai/Python_Libraries_for_DataScience/keys{/key_id}',\n",
      "  'labels_url': 'https://api.github.com/repos/Shanukusai/Python_Libraries_for_DataScience/labels{/name}',\n",
      "  'language': 'Jupyter Notebook',\n",
      "  'languages_url': 'https://api.github.com/repos/Shanukusai/Python_Libraries_for_DataScience/languages',\n",
      "  'license': None,\n",
      "  'merges_url': 'https://api.github.com/repos/Shanukusai/Python_Libraries_for_DataScience/merges',\n",
      "  'milestones_url': 'https://api.github.com/repos/Shanukusai/Python_Libraries_for_DataScience/milestones{/number}',\n",
      "  'mirror_url': None,\n",
      "  'name': 'Python_Libraries_for_DataScience',\n",
      "  'node_id': 'MDEwOlJlcG9zaXRvcnkyNjI2NzYzOTI=',\n",
      "  'notifications_url': 'https://api.github.com/repos/Shanukusai/Python_Libraries_for_DataScience/notifications{?since,all,participating}',\n",
      "  'open_issues': 1,\n",
      "  'open_issues_count': 1,\n",
      "  'owner': {'avatar_url': 'https://avatars1.githubusercontent.com/u/44548063?v=4',\n",
      "            'events_url': 'https://api.github.com/users/Shanukusai/events{/privacy}',\n",
      "            'followers_url': 'https://api.github.com/users/Shanukusai/followers',\n",
      "            'following_url': 'https://api.github.com/users/Shanukusai/following{/other_user}',\n",
      "            'gists_url': 'https://api.github.com/users/Shanukusai/gists{/gist_id}',\n",
      "            'gravatar_id': '',\n",
      "            'html_url': 'https://github.com/Shanukusai',\n",
      "            'id': 44548063,\n",
      "            'login': 'Shanukusai',\n",
      "            'node_id': 'MDQ6VXNlcjQ0NTQ4MDYz',\n",
      "            'organizations_url': 'https://api.github.com/users/Shanukusai/orgs',\n",
      "            'received_events_url': 'https://api.github.com/users/Shanukusai/received_events',\n",
      "            'repos_url': 'https://api.github.com/users/Shanukusai/repos',\n",
      "            'site_admin': False,\n",
      "            'starred_url': 'https://api.github.com/users/Shanukusai/starred{/owner}{/repo}',\n",
      "            'subscriptions_url': 'https://api.github.com/users/Shanukusai/subscriptions',\n",
      "            'type': 'User',\n",
      "            'url': 'https://api.github.com/users/Shanukusai'},\n",
      "  'private': False,\n",
      "  'pulls_url': 'https://api.github.com/repos/Shanukusai/Python_Libraries_for_DataScience/pulls{/number}',\n",
      "  'pushed_at': '2020-05-30T16:37:39Z',\n",
      "  'releases_url': 'https://api.github.com/repos/Shanukusai/Python_Libraries_for_DataScience/releases{/id}',\n",
      "  'size': 109,\n",
      "  'ssh_url': 'git@github.com:Shanukusai/Python_Libraries_for_DataScience.git',\n",
      "  'stargazers_count': 0,\n",
      "  'stargazers_url': 'https://api.github.com/repos/Shanukusai/Python_Libraries_for_DataScience/stargazers',\n",
      "  'statuses_url': 'https://api.github.com/repos/Shanukusai/Python_Libraries_for_DataScience/statuses/{sha}',\n",
      "  'subscribers_url': 'https://api.github.com/repos/Shanukusai/Python_Libraries_for_DataScience/subscribers',\n",
      "  'subscription_url': 'https://api.github.com/repos/Shanukusai/Python_Libraries_for_DataScience/subscription',\n",
      "  'svn_url': 'https://github.com/Shanukusai/Python_Libraries_for_DataScience',\n",
      "  'tags_url': 'https://api.github.com/repos/Shanukusai/Python_Libraries_for_DataScience/tags',\n",
      "  'teams_url': 'https://api.github.com/repos/Shanukusai/Python_Libraries_for_DataScience/teams',\n",
      "  'trees_url': 'https://api.github.com/repos/Shanukusai/Python_Libraries_for_DataScience/git/trees{/sha}',\n",
      "  'updated_at': '2020-05-30T16:37:41Z',\n",
      "  'url': 'https://api.github.com/repos/Shanukusai/Python_Libraries_for_DataScience',\n",
      "  'watchers': 0,\n",
      "  'watchers_count': 0}]\n"
     ]
    }
   ],
   "source": [
    "pprint(data)"
   ]
  },
  {
   "cell_type": "code",
   "execution_count": 19,
   "metadata": {},
   "outputs": [
    {
     "name": "stdout",
     "output_type": "stream",
     "text": [
      "database\n",
      "python_basics\n",
      "Python_Libraries_for_DataScience\n"
     ]
    }
   ],
   "source": [
    "for i in r.json():\n",
    "    print(i['name'])"
   ]
  },
  {
   "cell_type": "code",
   "execution_count": 20,
   "metadata": {},
   "outputs": [],
   "source": [
    "with open('data.json', 'w') as f:\n",
    "    json.dump(r.json(), f)"
   ]
  },
  {
   "cell_type": "markdown",
   "metadata": {},
   "source": [
    "#2. Изучить список открытых API (https://www.programmableweb.com/category/all/apis). Найти среди них любое, требующее авторизацию (любого типа). Выполнить запросы к нему, пройдя авторизацию. Ответ сервера записать в файл."
   ]
  },
  {
   "cell_type": "code",
   "execution_count": 100,
   "metadata": {},
   "outputs": [],
   "source": [
    "auth_url = 'https://sandbox-authservice.priaid.ch/login'\n",
    "username = 'blooodangel@bk.ru'\n",
    "password = 'w9X3AnWg28GcDt46H'\n",
    "language = 'ru-ru'\n",
    "symptoms_url = 'https://sandbox-healthservice.priaid.ch/symptoms'\n",
    "diagnosis_url = 'https://sandbox-healthservice.priaid.ch/diagnosis'"
   ]
  },
  {
   "cell_type": "code",
   "execution_count": 97,
   "metadata": {},
   "outputs": [],
   "source": [
    "def loadToken(username, password, url):\n",
    "        raw_hash_string = hmac.new(bytes(password, encoding='utf-8'), url.encode('utf-8')).digest()\n",
    "        computed_hash_string = base64.b64encode(raw_hash_string).decode()\n",
    "\n",
    "        bearer_credentials = username + ':' + computed_hash_string\n",
    "        post_headers = {\n",
    "                'Authorization': f'Bearer {bearer_credentials}'\n",
    "        }\n",
    "        response_post = requests.post(url, headers=post_headers)\n",
    "\n",
    "        data = json.loads(response_post.text)\n",
    "        return data"
   ]
  },
  {
   "cell_type": "code",
   "execution_count": 98,
   "metadata": {},
   "outputs": [],
   "source": [
    "r = loadToken(username, password, auth_url)\n",
    "token = r['Token']"
   ]
  },
  {
   "cell_type": "code",
   "execution_count": 94,
   "metadata": {},
   "outputs": [
    {
     "data": {
      "text/plain": [
       "'[{\"ID\":56,\"Name\":\"\"},{\"ID\":33,\"Name\":\"\"},{\"ID\":10,\"Name\":\"Абдоминальная боль\"},{\"ID\":235,\"Name\":\"Амнезия\"},{\"ID\":35,\"Name\":\"Ангионевротический отек\"},{\"ID\":52,\"Name\":\"Бессоница\"},{\"ID\":13,\"Name\":\"Боль в горле\"},{\"ID\":17,\"Name\":\"Боль в груди\"},{\"ID\":12,\"Name\":\"Боль в конечностях\"},{\"ID\":104,\"Name\":\"Боль в спине\"},{\"ID\":87,\"Name\":\"Боль в ухе\"},{\"ID\":136,\"Name\":\"Боль в шее\"},{\"ID\":203,\"Name\":\"Боль при глотании\"},{\"ID\":287,\"Name\":\"Глазная боль\"},{\"ID\":9,\"Name\":\"Головная боль\"},{\"ID\":207,\"Name\":\"Головокружение\"},{\"ID\":75,\"Name\":\"Жжение в глазах\"},{\"ID\":46,\"Name\":\"Жжение в горле\"},{\"ID\":123,\"Name\":\"Задержка менструации\"},{\"ID\":28,\"Name\":\"Заложенность носа\"},{\"ID\":96,\"Name\":\"Зуд в носу\"},{\"ID\":73,\"Name\":\"Зуд глаз\"},{\"ID\":45,\"Name\":\"Изжога\"},{\"ID\":122,\"Name\":\"Икота\"},{\"ID\":153,\"Name\":\"Интенсивное дыхание\"},{\"ID\":15,\"Name\":\"Кашель\"},{\"ID\":124,\"Name\":\"Кожная сыпь\"},{\"ID\":144,\"Name\":\"Кратковременная потеря сознания\"},{\"ID\":11,\"Name\":\"Лихорадка\"},{\"ID\":64,\"Name\":\"Мокрота\"},{\"ID\":112,\"Name\":\"Нарушение менструации\"},{\"ID\":14,\"Name\":\"Насморк\"},{\"ID\":114,\"Name\":\"Нервозность\"},{\"ID\":133,\"Name\":\"Ночной кашель\"},{\"ID\":57,\"Name\":\"Обморок\"},{\"ID\":29,\"Name\":\"Одышка\"},{\"ID\":175,\"Name\":\"Озноб\"},{\"ID\":76,\"Name\":\"Ощущение инородного тела в глазу\"},{\"ID\":140,\"Name\":\"Паралич\"},{\"ID\":40,\"Name\":\"Полидипсия\"},{\"ID\":138,\"Name\":\"Потливость\"},{\"ID\":23,\"Name\":\"Прибавление в весе\"},{\"ID\":149,\"Name\":\"Приливы\"},{\"ID\":170,\"Name\":\"Припухшая щека\"},{\"ID\":244,\"Name\":\"Птоз века\"},{\"ID\":92,\"Name\":\"Раннее насыщение\"},{\"ID\":101,\"Name\":\"Рвота\"},{\"ID\":181,\"Name\":\"Рвота кровью\"},{\"ID\":211,\"Name\":\"Слезотечение\"},{\"ID\":54,\"Name\":\"Снижение аппетита\"},{\"ID\":273,\"Name\":\"Сухость глаз\"},{\"ID\":37,\"Name\":\"Тахикардия\"},{\"ID\":31,\"Name\":\"Теснота в груди\"},{\"ID\":44,\"Name\":\"Тошнота\"},{\"ID\":238,\"Name\":\"Тревожность\"},{\"ID\":115,\"Name\":\"Тремор в покое\"},{\"ID\":169,\"Name\":\"Увеличение лимфоузлов в области шеи\"},{\"ID\":248,\"Name\":\"Увеличение лимфоузлов в подмышечной впадине\"},{\"ID\":16,\"Name\":\"Усталость\"},{\"ID\":139,\"Name\":\"Холодный пот\"},{\"ID\":30,\"Name\":\"Хрип\"},{\"ID\":95,\"Name\":\"Чихание\"},{\"ID\":179,\"Name\":\"Чувство жжения в желудке\"}]'"
      ]
     },
     "execution_count": 94,
     "metadata": {},
     "output_type": "execute_result"
    }
   ],
   "source": [
    "params = {'token': token, 'language': language}\n",
    "symptoms_list = requests.get(symptoms_url, params=params)\n",
    "symptoms_list.text"
   ]
  },
  {
   "cell_type": "code",
   "execution_count": 119,
   "metadata": {},
   "outputs": [],
   "source": [
    "with open('symptoms_list.json', 'w', encoding=\"utf-8\") as f:\n",
    "    json.dump(symptoms_list.json(), f, ensure_ascii=False)"
   ]
  },
  {
   "cell_type": "code",
   "execution_count": 114,
   "metadata": {},
   "outputs": [
    {
     "name": "stdout",
     "output_type": "stream",
     "text": [
      "[{'Issue': {'Accuracy': 90,\n",
      "            'ID': 80,\n",
      "            'Icd': 'J00',\n",
      "            'IcdName': 'Acute nasopharyngitis [common cold]',\n",
      "            'Name': 'Простуда',\n",
      "            'ProfName': 'Острая респираторная инфекция',\n",
      "            'Ranking': 1},\n",
      "  'Specialisation': [{'ID': 15, 'Name': 'Терапевт', 'SpecialistID': 0}]},\n",
      " {'Issue': {'Accuracy': 58.1896553,\n",
      "            'ID': 11,\n",
      "            'Icd': 'J10;J11',\n",
      "            'IcdName': 'Influenza due to other identified influenza '\n",
      "                       'virus;Influenza, virus not identified',\n",
      "            'Name': 'Грипп',\n",
      "            'ProfName': 'Грипп',\n",
      "            'Ranking': 2},\n",
      "  'Specialisation': [{'ID': 19,\n",
      "                      'Name': 'Врач-специалист по внутренним заболеваниям',\n",
      "                      'SpecialistID': 0},\n",
      "                     {'ID': 15, 'Name': 'Терапевт', 'SpecialistID': 0}]},\n",
      " {'Issue': {'Accuracy': 52.37069,\n",
      "            'ID': 113,\n",
      "            'Icd': 'J12;J13;J14;J15;J16;J17;J18;P23',\n",
      "            'IcdName': 'Viral pneumonia, not elsewhere classified;Pneumonia '\n",
      "                       'due to Streptococcus pneumoniae;Pneumonia due to '\n",
      "                       'Haemophilus influenzae;Bacterial pneumonia, not '\n",
      "                       'elsewhere classified;Pneumonia due to other infectious '\n",
      "                       'organisms, not elsewhere classified;Pneumonia in '\n",
      "                       'diseases classified elsewhere;Pneumonia, organism '\n",
      "                       'unspecified;Congenital pneumonia',\n",
      "            'Name': 'Острое воспаление легких',\n",
      "            'ProfName': 'Пневмония',\n",
      "            'Ranking': 3},\n",
      "  'Specialisation': [{'ID': 19,\n",
      "                      'Name': 'Врач-специалист по внутренним заболеваниям',\n",
      "                      'SpecialistID': 0},\n",
      "                     {'ID': 35, 'Name': 'Пульмонолог', 'SpecialistID': 0},\n",
      "                     {'ID': 15, 'Name': 'Терапевт', 'SpecialistID': 0}]},\n",
      " {'Issue': {'Accuracy': 13.1896553,\n",
      "            'ID': 44,\n",
      "            'Icd': 'J02;J31.2',\n",
      "            'IcdName': 'Acute pharyngitis;Chronic pharyngitis',\n",
      "            'Name': 'Воспаление носа и горла',\n",
      "            'ProfName': 'Назофарингит',\n",
      "            'Ranking': 4},\n",
      "  'Specialisation': [{'ID': 32, 'Name': 'Оториноларинголог', 'SpecialistID': 0},\n",
      "                     {'ID': 15, 'Name': 'Терапевт', 'SpecialistID': 0}]}]\n"
     ]
    }
   ],
   "source": [
    "params = {'token': token, 'language': language, 'symptoms':'[15,11]', 'gender':'male', 'year_of_birth':'1988'}\n",
    "diagnosis = requests.get(diagnosis_url, params=params)\n",
    "diagnosis_j = diagnosis.json()\n",
    "pprint(diagnosis_j)"
   ]
  },
  {
   "cell_type": "code",
   "execution_count": 120,
   "metadata": {},
   "outputs": [],
   "source": [
    "with open('diagnosis.json', 'w') as f:\n",
    "    json.dump(diagnosis.json(), f, ensure_ascii=False)"
   ]
  },
  {
   "cell_type": "code",
   "execution_count": null,
   "metadata": {},
   "outputs": [],
   "source": []
  }
 ],
 "metadata": {
  "kernelspec": {
   "display_name": "Python 3",
   "language": "python",
   "name": "python3"
  },
  "language_info": {
   "codemirror_mode": {
    "name": "ipython",
    "version": 3
   },
   "file_extension": ".py",
   "mimetype": "text/x-python",
   "name": "python",
   "nbconvert_exporter": "python",
   "pygments_lexer": "ipython3",
   "version": "3.7.6"
  }
 },
 "nbformat": 4,
 "nbformat_minor": 4
}
